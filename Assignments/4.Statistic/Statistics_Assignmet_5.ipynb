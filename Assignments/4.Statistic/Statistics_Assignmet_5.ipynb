{
 "cells": [
  {
   "cell_type": "code",
   "execution_count": 232,
   "id": "c62ba1f0",
   "metadata": {},
   "outputs": [],
   "source": [
    "import pandas as pd\n",
    "import numpy as np\n",
    "from scipy import stats"
   ]
  },
  {
   "cell_type": "markdown",
   "id": "8aef73cd",
   "metadata": {},
   "source": [
    "TESTS:\n",
    "Dependent t Test            t = stats.ttest_rel(sample1,sample2), p_value = 2*(1-stats.t.cdf(t, df)\n",
    "(One group, before-after)\n",
    "\n",
    "Independent Sample t Test   t = stats.ttest_ind(sample1, sample2), p_value = 2*(1 - stats.t.cdf(t, df))  \n",
    "(Independent two group)\n",
    "\n",
    "One way ANOVA f Test        t = stats.f_oneway(sample1, sample2, ..), p_value = 1 - stats.f.cdf(t, df1, df2)\n",
    "(for 2 or more group)"
   ]
  },
  {
   "cell_type": "code",
   "execution_count": null,
   "id": "852f8a37",
   "metadata": {},
   "outputs": [],
   "source": []
  },
  {
   "cell_type": "markdown",
   "id": "3c96b6c0",
   "metadata": {},
   "source": [
    "EXERCISE 1. The hourly wages in a particular industry are normally distributed with mean $13.20 and standard deviation $2.50. A company in this industry employs 40 workers, paying them an average of $12.20 per hour. Can this company be accused of paying substandard wages? Use an α = .01 level test. (Wackerly, Ex.10.18)\n",
    "\n",
    "CHECK: statistic: -2.5298221281347035, pvalue= 0.005706018193000826"
   ]
  },
  {
   "cell_type": "markdown",
   "id": "227340f1",
   "metadata": {},
   "source": [
    "1- ASSUMPTIONS:\n",
    "- Small sample group (t test)\n"
   ]
  },
  {
   "cell_type": "code",
   "execution_count": 2,
   "id": "c4a46fb2",
   "metadata": {},
   "outputs": [],
   "source": [
    "M = 13.20\n",
    "sigma = 2.50\n",
    "n = 40   #(Z test)\n",
    "mu = 12.20\n",
    "aplha = .01"
   ]
  },
  {
   "cell_type": "markdown",
   "id": "669aeade",
   "metadata": {},
   "source": [
    "2- HYPOTHESIS: \n",
    "H0 : M = 13.20\n",
    "Ha : M < 13.20  (One-tail hypotesis) (Left tail)"
   ]
  },
  {
   "cell_type": "markdown",
   "id": "800c1099",
   "metadata": {},
   "source": [
    "3- TEST STATISTIC:"
   ]
  },
  {
   "cell_type": "code",
   "execution_count": 3,
   "id": "b38f54c3",
   "metadata": {},
   "outputs": [
    {
     "data": {
      "text/plain": [
       "-2.5298221281347035"
      ]
     },
     "execution_count": 3,
     "metadata": {},
     "output_type": "execute_result"
    }
   ],
   "source": [
    "z = (mu - M) / (sigma / np.sqrt(n))\n",
    "z"
   ]
  },
  {
   "cell_type": "markdown",
   "id": "08f71316",
   "metadata": {},
   "source": [
    "4- P_value:"
   ]
  },
  {
   "cell_type": "code",
   "execution_count": 4,
   "id": "3c2a92e0",
   "metadata": {},
   "outputs": [
    {
     "data": {
      "text/plain": [
       "0.005706018193000826"
      ]
     },
     "execution_count": 4,
     "metadata": {},
     "output_type": "execute_result"
    }
   ],
   "source": [
    "p_value1 = stats.norm.cdf(z)\n",
    "p_value1"
   ]
  },
  {
   "cell_type": "markdown",
   "id": "ea4a5f58",
   "metadata": {},
   "source": [
    "5- Conclusion:"
   ]
  },
  {
   "cell_type": "code",
   "execution_count": 21,
   "id": "88754e14",
   "metadata": {},
   "outputs": [
    {
     "name": "stdout",
     "output_type": "stream",
     "text": [
      "'Reject the null'. At the 0.01 significance level, we have sufficient evidence to reject the H0 hypothesis. This company can be accused of paying substandard wages.\n"
     ]
    }
   ],
   "source": [
    "alpha = 0.01\n",
    "\n",
    "if p_value1 < alpha :\n",
    "    print(\"'Reject the null.' At the 0.01 significance level, we have sufficient evidence to reject the H0 hypothesis. This company can be accused of paying substandard wages.\")\n",
    "else : \n",
    "    print(\"'Fail to reject the null.' At the 0.01 significance level, we don't have sufficient evidence to reject the H0 hypothesis. This company cannot be accused of paying substandard wages.\")"
   ]
  },
  {
   "cell_type": "code",
   "execution_count": null,
   "id": "59c099f3",
   "metadata": {},
   "outputs": [],
   "source": []
  },
  {
   "cell_type": "markdown",
   "id": "f4eeef89",
   "metadata": {},
   "source": [
    "EXERCISE 2.Shear strength measurements derived from unconfined compression tests for two types of soils gave the results shown in the following document (measurements in tons per square foot). Do the soils appear to differ with respect to average shear strength, at the 1% significance level?\n",
    "\n",
    "Results for two type of soils\n",
    "\n",
    "CHECK: statistic: 5.1681473319343345, pvalue= 2.593228732352821e-06"
   ]
  },
  {
   "cell_type": "code",
   "execution_count": 5,
   "id": "7909645e",
   "metadata": {},
   "outputs": [
    {
     "data": {
      "text/html": [
       "<div>\n",
       "<style scoped>\n",
       "    .dataframe tbody tr th:only-of-type {\n",
       "        vertical-align: middle;\n",
       "    }\n",
       "\n",
       "    .dataframe tbody tr th {\n",
       "        vertical-align: top;\n",
       "    }\n",
       "\n",
       "    .dataframe thead th {\n",
       "        text-align: right;\n",
       "    }\n",
       "</style>\n",
       "<table border=\"1\" class=\"dataframe\">\n",
       "  <thead>\n",
       "    <tr style=\"text-align: right;\">\n",
       "      <th></th>\n",
       "      <th>Soil1</th>\n",
       "      <th>Soil2</th>\n",
       "    </tr>\n",
       "  </thead>\n",
       "  <tbody>\n",
       "    <tr>\n",
       "      <th>0</th>\n",
       "      <td>1.442</td>\n",
       "      <td>1.364</td>\n",
       "    </tr>\n",
       "    <tr>\n",
       "      <th>1</th>\n",
       "      <td>1.943</td>\n",
       "      <td>1.878</td>\n",
       "    </tr>\n",
       "    <tr>\n",
       "      <th>2</th>\n",
       "      <td>1.110</td>\n",
       "      <td>1.337</td>\n",
       "    </tr>\n",
       "    <tr>\n",
       "      <th>3</th>\n",
       "      <td>1.912</td>\n",
       "      <td>1.828</td>\n",
       "    </tr>\n",
       "    <tr>\n",
       "      <th>4</th>\n",
       "      <td>1.553</td>\n",
       "      <td>1.371</td>\n",
       "    </tr>\n",
       "  </tbody>\n",
       "</table>\n",
       "</div>"
      ],
      "text/plain": [
       "   Soil1  Soil2\n",
       "0  1.442  1.364\n",
       "1  1.943  1.878\n",
       "2  1.110  1.337\n",
       "3  1.912  1.828\n",
       "4  1.553  1.371"
      ]
     },
     "execution_count": 5,
     "metadata": {},
     "output_type": "execute_result"
    }
   ],
   "source": [
    "df_soil = pd.read_csv(\"soil - Sheet1.csv\")\n",
    "df_soil.head()"
   ]
  },
  {
   "cell_type": "markdown",
   "id": "85b45b3b",
   "metadata": {},
   "source": [
    "1- ASSUMPTIONS:\n",
    "Independent 2 groups     (Independent t-Test)"
   ]
  },
  {
   "cell_type": "code",
   "execution_count": 6,
   "id": "07bfe6fd",
   "metadata": {},
   "outputs": [],
   "source": [
    "alpha = 0.01"
   ]
  },
  {
   "cell_type": "code",
   "execution_count": 109,
   "id": "6f085012",
   "metadata": {},
   "outputs": [
    {
     "data": {
      "text/plain": [
       "5"
      ]
     },
     "execution_count": 109,
     "metadata": {},
     "output_type": "execute_result"
    }
   ],
   "source": [
    "#df_soil.Soil1.isnull().sum()"
   ]
  },
  {
   "cell_type": "code",
   "execution_count": 110,
   "id": "3b55351b",
   "metadata": {},
   "outputs": [
    {
     "data": {
      "text/plain": [
       "0"
      ]
     },
     "execution_count": 110,
     "metadata": {},
     "output_type": "execute_result"
    }
   ],
   "source": [
    "#df_soil.Soil2.isnull().sum()"
   ]
  },
  {
   "cell_type": "code",
   "execution_count": 7,
   "id": "b6c3fa9c",
   "metadata": {},
   "outputs": [],
   "source": [
    "soil1_n = df_soil.Soil1[df_soil.Soil1.notnull()]"
   ]
  },
  {
   "cell_type": "code",
   "execution_count": 61,
   "id": "abbe9806",
   "metadata": {},
   "outputs": [
    {
     "data": {
      "text/plain": [
       "30"
      ]
     },
     "execution_count": 61,
     "metadata": {},
     "output_type": "execute_result"
    }
   ],
   "source": [
    "n1 = len(soil1_n)\n",
    "n1"
   ]
  },
  {
   "cell_type": "code",
   "execution_count": 62,
   "id": "5b75a669",
   "metadata": {},
   "outputs": [
    {
     "data": {
      "text/plain": [
       "35"
      ]
     },
     "execution_count": 62,
     "metadata": {},
     "output_type": "execute_result"
    }
   ],
   "source": [
    "n2 = len(df_soil.Soil2)\n",
    "n2"
   ]
  },
  {
   "cell_type": "code",
   "execution_count": 63,
   "id": "c232d9c2",
   "metadata": {},
   "outputs": [
    {
     "data": {
      "text/plain": [
       "1.6918"
      ]
     },
     "execution_count": 63,
     "metadata": {},
     "output_type": "execute_result"
    }
   ],
   "source": [
    "#mu1 = df_soil.Soil1.mean()\n",
    "#mu1"
   ]
  },
  {
   "cell_type": "code",
   "execution_count": 64,
   "id": "b6db459a",
   "metadata": {},
   "outputs": [
    {
     "data": {
      "text/plain": [
       "1.4171142857142855"
      ]
     },
     "execution_count": 64,
     "metadata": {},
     "output_type": "execute_result"
    }
   ],
   "source": [
    "#mu2 = df_soil.Soil2.mean()\n",
    "#mu2"
   ]
  },
  {
   "cell_type": "code",
   "execution_count": 65,
   "id": "8ff9b57a",
   "metadata": {},
   "outputs": [
    {
     "data": {
      "text/plain": [
       "0.20690284243310078"
      ]
     },
     "execution_count": 65,
     "metadata": {},
     "output_type": "execute_result"
    }
   ],
   "source": [
    "#s1 = np.sqrt(df_soil.Soil1.var())\n",
    "#s1"
   ]
  },
  {
   "cell_type": "code",
   "execution_count": 66,
   "id": "e49b64db",
   "metadata": {},
   "outputs": [
    {
     "data": {
      "text/plain": [
       "0.2191842860711146"
      ]
     },
     "execution_count": 66,
     "metadata": {},
     "output_type": "execute_result"
    }
   ],
   "source": [
    "#s2 = np.sqrt(df_soil.Soil2.var())\n",
    "#s2"
   ]
  },
  {
   "cell_type": "markdown",
   "id": "c00c3cfc",
   "metadata": {},
   "source": [
    "2- HYPOTHESIS:\n",
    "H0 : M1 = M2\n",
    "H1 : M1 != M2    (Two tail test)"
   ]
  },
  {
   "cell_type": "markdown",
   "id": "bcd2f6e8",
   "metadata": {},
   "source": [
    "3- TEST STATISTIC:"
   ]
  },
  {
   "cell_type": "code",
   "execution_count": 68,
   "id": "4c3e76af",
   "metadata": {},
   "outputs": [
    {
     "data": {
      "text/plain": [
       "Ttest_indResult(statistic=5.1681473319343345, pvalue=2.593228732352821e-06)"
      ]
     },
     "execution_count": 68,
     "metadata": {},
     "output_type": "execute_result"
    }
   ],
   "source": [
    "ind_soil = stats.ttest_ind(soil1_n, df_soil.Soil2)\n",
    "ind_soil"
   ]
  },
  {
   "cell_type": "code",
   "execution_count": 69,
   "id": "1f3a3169",
   "metadata": {},
   "outputs": [
    {
     "data": {
      "text/plain": [
       "5.1681473319343345"
      ]
     },
     "execution_count": 69,
     "metadata": {},
     "output_type": "execute_result"
    }
   ],
   "source": [
    "t = ind_soil.statistic\n",
    "t"
   ]
  },
  {
   "cell_type": "markdown",
   "id": "f07571c1",
   "metadata": {},
   "source": [
    "4- P_value:"
   ]
  },
  {
   "cell_type": "code",
   "execution_count": 18,
   "id": "500a052c",
   "metadata": {},
   "outputs": [
    {
     "data": {
      "text/plain": [
       "63"
      ]
     },
     "execution_count": 18,
     "metadata": {},
     "output_type": "execute_result"
    }
   ],
   "source": [
    "df = n1 + n2 - 2\n",
    "df"
   ]
  },
  {
   "cell_type": "code",
   "execution_count": 19,
   "id": "f2ae84d9",
   "metadata": {},
   "outputs": [
    {
     "data": {
      "text/plain": [
       "2.59322873219503e-06"
      ]
     },
     "execution_count": 19,
     "metadata": {},
     "output_type": "execute_result"
    }
   ],
   "source": [
    "p_value = 2 * (1 - stats.t.cdf(t, df))\n",
    "p_value"
   ]
  },
  {
   "cell_type": "markdown",
   "id": "2f09f7db",
   "metadata": {},
   "source": [
    "5- CONCLUSION: \n",
    "p_value < alpha\n"
   ]
  },
  {
   "cell_type": "code",
   "execution_count": 103,
   "id": "89ec65bc",
   "metadata": {},
   "outputs": [
    {
     "name": "stdout",
     "output_type": "stream",
     "text": [
      "'Reject the null.' At the 0.01 significance level, we have sufficient evidence to reject the H0 hypothesis.\n"
     ]
    }
   ],
   "source": [
    "alpha = 0.01\n",
    "\n",
    "if p_value < alpha :\n",
    "    print(\"'Reject the null.' At the 0.01 significance level, we have sufficient evidence to reject the H0 hypothesis.\")\n",
    "else :\n",
    "    print(\"'Fail to reject the null.' At the 0.01 significance level, we don't have sufficient evidence to reject the H0 hypothesis.\")"
   ]
  },
  {
   "cell_type": "code",
   "execution_count": null,
   "id": "cc2f1879",
   "metadata": {},
   "outputs": [],
   "source": []
  },
  {
   "cell_type": "markdown",
   "id": "19f233d4",
   "metadata": {},
   "source": [
    "EXERCISE 3. The following dataset is based on data provided by the World Bank (https://datacatalog.worldbank.org/dataset/education-statistics). World Bank Edstats.  2015 PISA Test Dataset\n",
    "\n",
    "    Get descriptive statistics (the central tendency, dispersion and shape of a dataset’s distribution) for each continent group (AS, EU, AF, NA, SA, OC).\n",
    "    Determine whether there is any difference (on the average) for the math scores among European (EU) and Asian (AS) countries (assume normality and equal variances). Draw side-by-side box plots.\n",
    "\n",
    "CHECK: statistic=0.870055317967983, pvalue=0.38826888111307345"
   ]
  },
  {
   "cell_type": "code",
   "execution_count": 233,
   "id": "d7603e33",
   "metadata": {},
   "outputs": [
    {
     "data": {
      "text/html": [
       "<div>\n",
       "<style scoped>\n",
       "    .dataframe tbody tr th:only-of-type {\n",
       "        vertical-align: middle;\n",
       "    }\n",
       "\n",
       "    .dataframe tbody tr th {\n",
       "        vertical-align: top;\n",
       "    }\n",
       "\n",
       "    .dataframe thead th {\n",
       "        text-align: right;\n",
       "    }\n",
       "</style>\n",
       "<table border=\"1\" class=\"dataframe\">\n",
       "  <thead>\n",
       "    <tr style=\"text-align: right;\">\n",
       "      <th></th>\n",
       "      <th>Country Code</th>\n",
       "      <th>Continent_Code</th>\n",
       "      <th>internet_users_per_100</th>\n",
       "      <th>Math</th>\n",
       "      <th>Reading</th>\n",
       "      <th>Science</th>\n",
       "    </tr>\n",
       "  </thead>\n",
       "  <tbody>\n",
       "    <tr>\n",
       "      <th>0</th>\n",
       "      <td>ALB</td>\n",
       "      <td>EU</td>\n",
       "      <td>63.252933</td>\n",
       "      <td>413.1570</td>\n",
       "      <td>405.2588</td>\n",
       "      <td>427.2250</td>\n",
       "    </tr>\n",
       "    <tr>\n",
       "      <th>1</th>\n",
       "      <td>ARE</td>\n",
       "      <td>AS</td>\n",
       "      <td>90.500000</td>\n",
       "      <td>427.4827</td>\n",
       "      <td>433.5423</td>\n",
       "      <td>436.7311</td>\n",
       "    </tr>\n",
       "    <tr>\n",
       "      <th>2</th>\n",
       "      <td>ARG</td>\n",
       "      <td>SA</td>\n",
       "      <td>68.043064</td>\n",
       "      <td>409.0333</td>\n",
       "      <td>425.3031</td>\n",
       "      <td>432.2262</td>\n",
       "    </tr>\n",
       "    <tr>\n",
       "      <th>3</th>\n",
       "      <td>AUS</td>\n",
       "      <td>OC</td>\n",
       "      <td>84.560519</td>\n",
       "      <td>493.8962</td>\n",
       "      <td>502.9006</td>\n",
       "      <td>509.9939</td>\n",
       "    </tr>\n",
       "    <tr>\n",
       "      <th>4</th>\n",
       "      <td>AUT</td>\n",
       "      <td>EU</td>\n",
       "      <td>83.940142</td>\n",
       "      <td>496.7423</td>\n",
       "      <td>484.8656</td>\n",
       "      <td>495.0375</td>\n",
       "    </tr>\n",
       "  </tbody>\n",
       "</table>\n",
       "</div>"
      ],
      "text/plain": [
       "  Country Code Continent_Code  internet_users_per_100      Math   Reading  \\\n",
       "0          ALB             EU               63.252933  413.1570  405.2588   \n",
       "1          ARE             AS               90.500000  427.4827  433.5423   \n",
       "2          ARG             SA               68.043064  409.0333  425.3031   \n",
       "3          AUS             OC               84.560519  493.8962  502.9006   \n",
       "4          AUT             EU               83.940142  496.7423  484.8656   \n",
       "\n",
       "    Science  \n",
       "0  427.2250  \n",
       "1  436.7311  \n",
       "2  432.2262  \n",
       "3  509.9939  \n",
       "4  495.0375  "
      ]
     },
     "execution_count": 233,
     "metadata": {},
     "output_type": "execute_result"
    }
   ],
   "source": [
    "df_pisa = pd.read_csv(\"2015 PISA Test - Sheet1.csv\")\n",
    "df_pisa.head()"
   ]
  },
  {
   "cell_type": "markdown",
   "id": "db431e07",
   "metadata": {},
   "source": [
    "1- ASSUMPTIONS: \n",
    " Independent 2 groups (Independent t-Test)"
   ]
  },
  {
   "cell_type": "code",
   "execution_count": 134,
   "id": "93be6afc",
   "metadata": {},
   "outputs": [
    {
     "data": {
      "text/plain": [
       "0"
      ]
     },
     "execution_count": 134,
     "metadata": {},
     "output_type": "execute_result"
    }
   ],
   "source": [
    "#df_pisa[df_pisa.Continent_Code == \"EU\"][\"Math\"].isnull().sum()"
   ]
  },
  {
   "cell_type": "code",
   "execution_count": 135,
   "id": "520bfa55",
   "metadata": {},
   "outputs": [
    {
     "data": {
      "text/plain": [
       "0"
      ]
     },
     "execution_count": 135,
     "metadata": {},
     "output_type": "execute_result"
    }
   ],
   "source": [
    "#df_pisa[df_pisa.Continent_Code== \"AS\"][\"Math\"].isnull().sum()"
   ]
  },
  {
   "cell_type": "code",
   "execution_count": 137,
   "id": "be6554de",
   "metadata": {},
   "outputs": [
    {
     "data": {
      "text/plain": [
       "37"
      ]
     },
     "execution_count": 137,
     "metadata": {},
     "output_type": "execute_result"
    }
   ],
   "source": [
    "n1 = len(df_pisa[df_pisa.Continent_Code == \"EU\" ])\n",
    "n1"
   ]
  },
  {
   "cell_type": "code",
   "execution_count": 138,
   "id": "69068a87",
   "metadata": {},
   "outputs": [
    {
     "data": {
      "text/plain": [
       "17"
      ]
     },
     "execution_count": 138,
     "metadata": {},
     "output_type": "execute_result"
    }
   ],
   "source": [
    "n2 = len(df_pisa[df_pisa.Continent_Code == \"AS\"])\n",
    "n2"
   ]
  },
  {
   "cell_type": "code",
   "execution_count": 139,
   "id": "241ec829",
   "metadata": {},
   "outputs": [
    {
     "data": {
      "text/plain": [
       "477.98144864864867"
      ]
     },
     "execution_count": 139,
     "metadata": {},
     "output_type": "execute_result"
    }
   ],
   "source": [
    "#mu1 = (df_pisa[df_pisa.Continent_Code == \"EU\"])[\"Math\"].mean()\n",
    "#mu1"
   ]
  },
  {
   "cell_type": "code",
   "execution_count": 140,
   "id": "c76346f1",
   "metadata": {},
   "outputs": [
    {
     "data": {
      "text/plain": [
       "466.2166470588236"
      ]
     },
     "execution_count": 140,
     "metadata": {},
     "output_type": "execute_result"
    }
   ],
   "source": [
    "#mu2 = (df_pisa[df_pisa.Continent_Code == \"AS\"])[\"Math\"].mean()\n",
    "#mu2"
   ]
  },
  {
   "cell_type": "code",
   "execution_count": 141,
   "id": "3dc6ca44",
   "metadata": {},
   "outputs": [
    {
     "data": {
      "text/plain": [
       "35.15040262727062"
      ]
     },
     "execution_count": 141,
     "metadata": {},
     "output_type": "execute_result"
    }
   ],
   "source": [
    "#std1 = np.sqrt(df_pisa[df_pisa.Continent_Code == \"EU\"][\"Math\"].var())\n",
    "#std1"
   ]
  },
  {
   "cell_type": "code",
   "execution_count": 142,
   "id": "698c9e22",
   "metadata": {},
   "outputs": [
    {
     "data": {
      "text/plain": [
       "64.3564901327764"
      ]
     },
     "execution_count": 142,
     "metadata": {},
     "output_type": "execute_result"
    }
   ],
   "source": [
    "#std2 = np.sqrt(df_pisa[df_pisa.Continent_Code == \"AS\"][\"Math\"].var())\n",
    "#std2"
   ]
  },
  {
   "cell_type": "code",
   "execution_count": null,
   "id": "8d4d48d7",
   "metadata": {},
   "outputs": [],
   "source": []
  },
  {
   "cell_type": "markdown",
   "id": "195073b3",
   "metadata": {},
   "source": [
    "2- HYPOTHESIS:"
   ]
  },
  {
   "cell_type": "markdown",
   "id": "ce656fc2",
   "metadata": {},
   "source": [
    "H0 : M1 = M2\n",
    "Ha : M1 != M2  (Two tail test)"
   ]
  },
  {
   "cell_type": "markdown",
   "id": "9aaac7e8",
   "metadata": {},
   "source": [
    "3- TEST STATISTIC:"
   ]
  },
  {
   "cell_type": "code",
   "execution_count": 143,
   "id": "69f8f6e5",
   "metadata": {},
   "outputs": [
    {
     "data": {
      "text/plain": [
       "Ttest_indResult(statistic=0.870055317967983, pvalue=0.38826888111307345)"
      ]
     },
     "execution_count": 143,
     "metadata": {},
     "output_type": "execute_result"
    }
   ],
   "source": [
    "ind_pisa = stats.ttest_ind(df_pisa[df_pisa.Continent_Code == \"EU\"][\"Math\"], df_pisa[df_pisa.Continent_Code == \"AS\"][\"Math\"])\n",
    "ind_pisa"
   ]
  },
  {
   "cell_type": "code",
   "execution_count": 144,
   "id": "290287e4",
   "metadata": {},
   "outputs": [
    {
     "data": {
      "text/plain": [
       "0.870055317967983"
      ]
     },
     "execution_count": 144,
     "metadata": {},
     "output_type": "execute_result"
    }
   ],
   "source": [
    "t_pisa = ind_pisa.statistic\n",
    "t_pisa"
   ]
  },
  {
   "cell_type": "markdown",
   "id": "46b5687c",
   "metadata": {},
   "source": [
    "4- P_value:"
   ]
  },
  {
   "cell_type": "code",
   "execution_count": 145,
   "id": "c2a9a4ee",
   "metadata": {},
   "outputs": [
    {
     "data": {
      "text/plain": [
       "52"
      ]
     },
     "execution_count": 145,
     "metadata": {},
     "output_type": "execute_result"
    }
   ],
   "source": [
    "df = n1 + n2 - 2\n",
    "df"
   ]
  },
  {
   "cell_type": "code",
   "execution_count": 146,
   "id": "0851099b",
   "metadata": {},
   "outputs": [
    {
     "data": {
      "text/plain": [
       "0.38826888111307345"
      ]
     },
     "execution_count": 146,
     "metadata": {},
     "output_type": "execute_result"
    }
   ],
   "source": [
    "p_value = ind_pisa.pvalue\n",
    "p_value"
   ]
  },
  {
   "cell_type": "code",
   "execution_count": 147,
   "id": "f9040e33",
   "metadata": {},
   "outputs": [
    {
     "data": {
      "text/plain": [
       "0.38826888111307345"
      ]
     },
     "execution_count": 147,
     "metadata": {},
     "output_type": "execute_result"
    }
   ],
   "source": [
    "p_value = 2  * (1 - stats.t.cdf(t_pisa, df))\n",
    "p_value"
   ]
  },
  {
   "cell_type": "markdown",
   "id": "06d1772f",
   "metadata": {},
   "source": [
    "5- CONCLUSION:"
   ]
  },
  {
   "cell_type": "code",
   "execution_count": 148,
   "id": "c4e7401d",
   "metadata": {},
   "outputs": [
    {
     "name": "stdout",
     "output_type": "stream",
     "text": [
      "'Fail to reject the null.' At the 0.01 significance level, we don't have sufficient evidence to reject the H0 hypothesis.\n"
     ]
    }
   ],
   "source": [
    "alpha = 0.05   #Default\n",
    "if p_value < alpha :\n",
    "    print(\"'Reject the null.' At the 0.01 significance level, we have sufficient evidence to reject the H0 hypothesis.\")\n",
    "else :\n",
    "    print(\"'Fail to reject the null.' At the 0.01 significance level, we don't have sufficient evidence to reject the H0 hypothesis.\")"
   ]
  },
  {
   "cell_type": "markdown",
   "id": "d99823fe",
   "metadata": {},
   "source": [
    "EXERCISE 4.The sample dataset has placement test scores (out of 100 points) for four subject areas: English, Reading, Math, and Writing. Students in the sample completed all 4 placement tests when they enrolled in the university. Suppose we are particularly interested in the English and Math sections, and want to determine whether students tended to score higher on their English or Math test, on average. We could use a paired t test to test if there was a significant difference in the average of the two tests.\n",
    "\n",
    "Sample Dataset 2014\n",
    "\n",
    "CHECK: statistic=36.312568981719856, pvalue=3.0710987192210606e-128"
   ]
  },
  {
   "cell_type": "code",
   "execution_count": 260,
   "id": "3ce77266",
   "metadata": {},
   "outputs": [
    {
     "data": {
      "text/html": [
       "<div>\n",
       "<style scoped>\n",
       "    .dataframe tbody tr th:only-of-type {\n",
       "        vertical-align: middle;\n",
       "    }\n",
       "\n",
       "    .dataframe tbody tr th {\n",
       "        vertical-align: top;\n",
       "    }\n",
       "\n",
       "    .dataframe thead th {\n",
       "        text-align: right;\n",
       "    }\n",
       "</style>\n",
       "<table border=\"1\" class=\"dataframe\">\n",
       "  <thead>\n",
       "    <tr style=\"text-align: right;\">\n",
       "      <th></th>\n",
       "      <th>ids</th>\n",
       "      <th>bday</th>\n",
       "      <th>enrolldate</th>\n",
       "      <th>expgradate</th>\n",
       "      <th>Rank</th>\n",
       "      <th>Major</th>\n",
       "      <th>Gender</th>\n",
       "      <th>Athlete</th>\n",
       "      <th>Height</th>\n",
       "      <th>Weight</th>\n",
       "      <th>...</th>\n",
       "      <th>English</th>\n",
       "      <th>Reading</th>\n",
       "      <th>Math</th>\n",
       "      <th>Writing</th>\n",
       "      <th>State</th>\n",
       "      <th>LiveOnCampus</th>\n",
       "      <th>HowCommute</th>\n",
       "      <th>CommuteTime</th>\n",
       "      <th>SleepTime</th>\n",
       "      <th>StudyTime</th>\n",
       "    </tr>\n",
       "  </thead>\n",
       "  <tbody>\n",
       "    <tr>\n",
       "      <th>0</th>\n",
       "      <td>43783</td>\n",
       "      <td>3/22/1995</td>\n",
       "      <td>NaN</td>\n",
       "      <td>NaN</td>\n",
       "      <td>NaN</td>\n",
       "      <td>NaN</td>\n",
       "      <td>0.0</td>\n",
       "      <td>0</td>\n",
       "      <td>72.35</td>\n",
       "      <td>NaN</td>\n",
       "      <td>...</td>\n",
       "      <td>88.24</td>\n",
       "      <td>81.50</td>\n",
       "      <td>60.02</td>\n",
       "      <td>81.44</td>\n",
       "      <td>In state</td>\n",
       "      <td>1.0</td>\n",
       "      <td>NaN</td>\n",
       "      <td>NaN</td>\n",
       "      <td>7.0</td>\n",
       "      <td>1.0</td>\n",
       "    </tr>\n",
       "    <tr>\n",
       "      <th>1</th>\n",
       "      <td>20278</td>\n",
       "      <td>1/1/1995</td>\n",
       "      <td>NaN</td>\n",
       "      <td>NaN</td>\n",
       "      <td>NaN</td>\n",
       "      <td>Philosophy</td>\n",
       "      <td>0.0</td>\n",
       "      <td>0</td>\n",
       "      <td>70.66</td>\n",
       "      <td>179.20</td>\n",
       "      <td>...</td>\n",
       "      <td>89.45</td>\n",
       "      <td>85.25</td>\n",
       "      <td>70.19</td>\n",
       "      <td>73.27</td>\n",
       "      <td>NaN</td>\n",
       "      <td>1.0</td>\n",
       "      <td>NaN</td>\n",
       "      <td>NaN</td>\n",
       "      <td>5.0</td>\n",
       "      <td>2.0</td>\n",
       "    </tr>\n",
       "    <tr>\n",
       "      <th>2</th>\n",
       "      <td>20389</td>\n",
       "      <td>12/31/1994</td>\n",
       "      <td>NaN</td>\n",
       "      <td>NaN</td>\n",
       "      <td>NaN</td>\n",
       "      <td>NaN</td>\n",
       "      <td>0.0</td>\n",
       "      <td>0</td>\n",
       "      <td>70.68</td>\n",
       "      <td>198.52</td>\n",
       "      <td>...</td>\n",
       "      <td>96.73</td>\n",
       "      <td>86.88</td>\n",
       "      <td>71.20</td>\n",
       "      <td>84.24</td>\n",
       "      <td>In state</td>\n",
       "      <td>NaN</td>\n",
       "      <td>NaN</td>\n",
       "      <td>NaN</td>\n",
       "      <td>8.0</td>\n",
       "      <td>7.0</td>\n",
       "    </tr>\n",
       "    <tr>\n",
       "      <th>3</th>\n",
       "      <td>22820</td>\n",
       "      <td>12/1/1994</td>\n",
       "      <td>NaN</td>\n",
       "      <td>NaN</td>\n",
       "      <td>NaN</td>\n",
       "      <td>business administration</td>\n",
       "      <td>1.0</td>\n",
       "      <td>0</td>\n",
       "      <td>NaN</td>\n",
       "      <td>198.34</td>\n",
       "      <td>...</td>\n",
       "      <td>74.06</td>\n",
       "      <td>88.68</td>\n",
       "      <td>55.89</td>\n",
       "      <td>73.16</td>\n",
       "      <td>In state</td>\n",
       "      <td>1.0</td>\n",
       "      <td>NaN</td>\n",
       "      <td>NaN</td>\n",
       "      <td>2.0</td>\n",
       "      <td>6.0</td>\n",
       "    </tr>\n",
       "    <tr>\n",
       "      <th>4</th>\n",
       "      <td>24559</td>\n",
       "      <td>11/10/1994</td>\n",
       "      <td>NaN</td>\n",
       "      <td>NaN</td>\n",
       "      <td>NaN</td>\n",
       "      <td>NaN</td>\n",
       "      <td>1.0</td>\n",
       "      <td>1</td>\n",
       "      <td>67.43</td>\n",
       "      <td>128.17</td>\n",
       "      <td>...</td>\n",
       "      <td>82.61</td>\n",
       "      <td>77.30</td>\n",
       "      <td>65.52</td>\n",
       "      <td>80.45</td>\n",
       "      <td>Out of state</td>\n",
       "      <td>1.0</td>\n",
       "      <td>NaN</td>\n",
       "      <td>NaN</td>\n",
       "      <td>7.0</td>\n",
       "      <td>3.0</td>\n",
       "    </tr>\n",
       "  </tbody>\n",
       "</table>\n",
       "<p>5 rows × 23 columns</p>\n",
       "</div>"
      ],
      "text/plain": [
       "     ids        bday enrolldate expgradate  Rank                    Major  \\\n",
       "0  43783   3/22/1995        NaN        NaN   NaN                      NaN   \n",
       "1  20278    1/1/1995        NaN        NaN   NaN               Philosophy   \n",
       "2  20389  12/31/1994        NaN        NaN   NaN                      NaN   \n",
       "3  22820   12/1/1994        NaN        NaN   NaN  business administration   \n",
       "4  24559  11/10/1994        NaN        NaN   NaN                      NaN   \n",
       "\n",
       "   Gender  Athlete  Height  Weight  ...  English  Reading   Math  Writing  \\\n",
       "0     0.0        0   72.35     NaN  ...    88.24    81.50  60.02    81.44   \n",
       "1     0.0        0   70.66  179.20  ...    89.45    85.25  70.19    73.27   \n",
       "2     0.0        0   70.68  198.52  ...    96.73    86.88  71.20    84.24   \n",
       "3     1.0        0     NaN  198.34  ...    74.06    88.68  55.89    73.16   \n",
       "4     1.0        1   67.43  128.17  ...    82.61    77.30  65.52    80.45   \n",
       "\n",
       "          State  LiveOnCampus  HowCommute CommuteTime  SleepTime  StudyTime  \n",
       "0      In state           1.0         NaN         NaN        7.0        1.0  \n",
       "1           NaN           1.0         NaN         NaN        5.0        2.0  \n",
       "2      In state           NaN         NaN         NaN        8.0        7.0  \n",
       "3      In state           1.0         NaN         NaN        2.0        6.0  \n",
       "4  Out of state           1.0         NaN         NaN        7.0        3.0  \n",
       "\n",
       "[5 rows x 23 columns]"
      ]
     },
     "execution_count": 260,
     "metadata": {},
     "output_type": "execute_result"
    }
   ],
   "source": [
    "df_sample = pd.read_csv(\"students_2014 - students_2014.csv\")\n",
    "df_sample.head()"
   ]
  },
  {
   "cell_type": "markdown",
   "id": "279bf587",
   "metadata": {},
   "source": [
    "1- ASSUMPTIONS: \n",
    "Dependent 1 groups (Dependent t-Test)"
   ]
  },
  {
   "cell_type": "code",
   "execution_count": 267,
   "id": "50fb22b2",
   "metadata": {},
   "outputs": [
    {
     "data": {
      "text/html": [
       "<div>\n",
       "<style scoped>\n",
       "    .dataframe tbody tr th:only-of-type {\n",
       "        vertical-align: middle;\n",
       "    }\n",
       "\n",
       "    .dataframe tbody tr th {\n",
       "        vertical-align: top;\n",
       "    }\n",
       "\n",
       "    .dataframe thead th {\n",
       "        text-align: right;\n",
       "    }\n",
       "</style>\n",
       "<table border=\"1\" class=\"dataframe\">\n",
       "  <thead>\n",
       "    <tr style=\"text-align: right;\">\n",
       "      <th></th>\n",
       "      <th>English</th>\n",
       "      <th>Math</th>\n",
       "    </tr>\n",
       "  </thead>\n",
       "  <tbody>\n",
       "    <tr>\n",
       "      <th>0</th>\n",
       "      <td>88.24</td>\n",
       "      <td>60.02</td>\n",
       "    </tr>\n",
       "    <tr>\n",
       "      <th>1</th>\n",
       "      <td>89.45</td>\n",
       "      <td>70.19</td>\n",
       "    </tr>\n",
       "    <tr>\n",
       "      <th>2</th>\n",
       "      <td>96.73</td>\n",
       "      <td>71.20</td>\n",
       "    </tr>\n",
       "    <tr>\n",
       "      <th>3</th>\n",
       "      <td>74.06</td>\n",
       "      <td>55.89</td>\n",
       "    </tr>\n",
       "    <tr>\n",
       "      <th>4</th>\n",
       "      <td>82.61</td>\n",
       "      <td>65.52</td>\n",
       "    </tr>\n",
       "    <tr>\n",
       "      <th>...</th>\n",
       "      <td>...</td>\n",
       "      <td>...</td>\n",
       "    </tr>\n",
       "    <tr>\n",
       "      <th>430</th>\n",
       "      <td>87.72</td>\n",
       "      <td>65.31</td>\n",
       "    </tr>\n",
       "    <tr>\n",
       "      <th>431</th>\n",
       "      <td>91.01</td>\n",
       "      <td>70.25</td>\n",
       "    </tr>\n",
       "    <tr>\n",
       "      <th>432</th>\n",
       "      <td>81.05</td>\n",
       "      <td>58.16</td>\n",
       "    </tr>\n",
       "    <tr>\n",
       "      <th>433</th>\n",
       "      <td>75.59</td>\n",
       "      <td>66.84</td>\n",
       "    </tr>\n",
       "    <tr>\n",
       "      <th>434</th>\n",
       "      <td>75.65</td>\n",
       "      <td>60.24</td>\n",
       "    </tr>\n",
       "  </tbody>\n",
       "</table>\n",
       "<p>435 rows × 2 columns</p>\n",
       "</div>"
      ],
      "text/plain": [
       "     English   Math\n",
       "0      88.24  60.02\n",
       "1      89.45  70.19\n",
       "2      96.73  71.20\n",
       "3      74.06  55.89\n",
       "4      82.61  65.52\n",
       "..       ...    ...\n",
       "430    87.72  65.31\n",
       "431    91.01  70.25\n",
       "432    81.05  58.16\n",
       "433    75.59  66.84\n",
       "434    75.65  60.24\n",
       "\n",
       "[435 rows x 2 columns]"
      ]
     },
     "execution_count": 267,
     "metadata": {},
     "output_type": "execute_result"
    }
   ],
   "source": [
    "df_new = df_sample[[\"English\", \"Math\"]]\n",
    "df_new"
   ]
  },
  {
   "cell_type": "code",
   "execution_count": 268,
   "id": "9a5ed6ec",
   "metadata": {},
   "outputs": [
    {
     "data": {
      "text/plain": [
       "English    26\n",
       "Math       13\n",
       "dtype: int64"
      ]
     },
     "execution_count": 268,
     "metadata": {},
     "output_type": "execute_result"
    }
   ],
   "source": [
    "df_new.isnull().sum()"
   ]
  },
  {
   "cell_type": "code",
   "execution_count": 285,
   "id": "65dccbcb",
   "metadata": {},
   "outputs": [
    {
     "name": "stderr",
     "output_type": "stream",
     "text": [
      "<ipython-input-285-3aa6a836b0f9>:1: SettingWithCopyWarning: \n",
      "A value is trying to be set on a copy of a slice from a DataFrame\n",
      "\n",
      "See the caveats in the documentation: https://pandas.pydata.org/pandas-docs/stable/user_guide/indexing.html#returning-a-view-versus-a-copy\n",
      "  df_new.dropna(inplace=True)\n"
     ]
    },
    {
     "data": {
      "text/html": [
       "<div>\n",
       "<style scoped>\n",
       "    .dataframe tbody tr th:only-of-type {\n",
       "        vertical-align: middle;\n",
       "    }\n",
       "\n",
       "    .dataframe tbody tr th {\n",
       "        vertical-align: top;\n",
       "    }\n",
       "\n",
       "    .dataframe thead th {\n",
       "        text-align: right;\n",
       "    }\n",
       "</style>\n",
       "<table border=\"1\" class=\"dataframe\">\n",
       "  <thead>\n",
       "    <tr style=\"text-align: right;\">\n",
       "      <th></th>\n",
       "      <th>English</th>\n",
       "      <th>Math</th>\n",
       "    </tr>\n",
       "  </thead>\n",
       "  <tbody>\n",
       "    <tr>\n",
       "      <th>0</th>\n",
       "      <td>88.24</td>\n",
       "      <td>60.02</td>\n",
       "    </tr>\n",
       "    <tr>\n",
       "      <th>1</th>\n",
       "      <td>89.45</td>\n",
       "      <td>70.19</td>\n",
       "    </tr>\n",
       "    <tr>\n",
       "      <th>2</th>\n",
       "      <td>96.73</td>\n",
       "      <td>71.20</td>\n",
       "    </tr>\n",
       "    <tr>\n",
       "      <th>3</th>\n",
       "      <td>74.06</td>\n",
       "      <td>55.89</td>\n",
       "    </tr>\n",
       "    <tr>\n",
       "      <th>4</th>\n",
       "      <td>82.61</td>\n",
       "      <td>65.52</td>\n",
       "    </tr>\n",
       "    <tr>\n",
       "      <th>...</th>\n",
       "      <td>...</td>\n",
       "      <td>...</td>\n",
       "    </tr>\n",
       "    <tr>\n",
       "      <th>430</th>\n",
       "      <td>87.72</td>\n",
       "      <td>65.31</td>\n",
       "    </tr>\n",
       "    <tr>\n",
       "      <th>431</th>\n",
       "      <td>91.01</td>\n",
       "      <td>70.25</td>\n",
       "    </tr>\n",
       "    <tr>\n",
       "      <th>432</th>\n",
       "      <td>81.05</td>\n",
       "      <td>58.16</td>\n",
       "    </tr>\n",
       "    <tr>\n",
       "      <th>433</th>\n",
       "      <td>75.59</td>\n",
       "      <td>66.84</td>\n",
       "    </tr>\n",
       "    <tr>\n",
       "      <th>434</th>\n",
       "      <td>75.65</td>\n",
       "      <td>60.24</td>\n",
       "    </tr>\n",
       "  </tbody>\n",
       "</table>\n",
       "<p>398 rows × 2 columns</p>\n",
       "</div>"
      ],
      "text/plain": [
       "     English   Math\n",
       "0      88.24  60.02\n",
       "1      89.45  70.19\n",
       "2      96.73  71.20\n",
       "3      74.06  55.89\n",
       "4      82.61  65.52\n",
       "..       ...    ...\n",
       "430    87.72  65.31\n",
       "431    91.01  70.25\n",
       "432    81.05  58.16\n",
       "433    75.59  66.84\n",
       "434    75.65  60.24\n",
       "\n",
       "[398 rows x 2 columns]"
      ]
     },
     "execution_count": 285,
     "metadata": {},
     "output_type": "execute_result"
    }
   ],
   "source": [
    "df_new.dropna(inplace=True)\n",
    "df_new"
   ]
  },
  {
   "cell_type": "code",
   "execution_count": 256,
   "id": "d1e7a60c",
   "metadata": {},
   "outputs": [
    {
     "data": {
      "text/plain": [
       "0"
      ]
     },
     "execution_count": 256,
     "metadata": {},
     "output_type": "execute_result"
    }
   ],
   "source": [
    "df_new.English.isnull().sum()"
   ]
  },
  {
   "cell_type": "code",
   "execution_count": 273,
   "id": "5c4d74e3",
   "metadata": {},
   "outputs": [
    {
     "data": {
      "text/plain": [
       "398"
      ]
     },
     "execution_count": 273,
     "metadata": {},
     "output_type": "execute_result"
    }
   ],
   "source": [
    "n1 = len(df_new.English)\n",
    "n1"
   ]
  },
  {
   "cell_type": "code",
   "execution_count": 274,
   "id": "ff00fa1f",
   "metadata": {},
   "outputs": [
    {
     "data": {
      "text/plain": [
       "398"
      ]
     },
     "execution_count": 274,
     "metadata": {},
     "output_type": "execute_result"
    }
   ],
   "source": [
    "n2 = len(df_new.Math)\n",
    "n2"
   ]
  },
  {
   "cell_type": "markdown",
   "id": "38ee17da",
   "metadata": {},
   "source": [
    "2- HYPOTHESIS:"
   ]
  },
  {
   "cell_type": "markdown",
   "id": "f6cdf067",
   "metadata": {},
   "source": [
    "H0 : M1 = M2\n",
    "Ha : M1 != M2  (Two tail test)"
   ]
  },
  {
   "cell_type": "markdown",
   "id": "509cacba",
   "metadata": {},
   "source": [
    "3- TEST STATISTIC:"
   ]
  },
  {
   "cell_type": "code",
   "execution_count": 289,
   "id": "08c424d2",
   "metadata": {},
   "outputs": [
    {
     "data": {
      "text/plain": [
       "Ttest_relResult(statistic=36.312568981719856, pvalue=3.0710987192210606e-128)"
      ]
     },
     "execution_count": 289,
     "metadata": {},
     "output_type": "execute_result"
    }
   ],
   "source": [
    "ind_sample = stats.ttest_rel(df_new.English, df_new.Math)\n",
    "ind_sample"
   ]
  },
  {
   "cell_type": "code",
   "execution_count": 290,
   "id": "5d3e2a4a",
   "metadata": {},
   "outputs": [
    {
     "data": {
      "text/plain": [
       "36.312568981719856"
      ]
     },
     "execution_count": 290,
     "metadata": {},
     "output_type": "execute_result"
    }
   ],
   "source": [
    "t = ind_sample.statistic\n",
    "t"
   ]
  },
  {
   "cell_type": "markdown",
   "id": "3263a8e5",
   "metadata": {},
   "source": [
    "4- P_value:"
   ]
  },
  {
   "cell_type": "code",
   "execution_count": 291,
   "id": "d348a0e3",
   "metadata": {},
   "outputs": [
    {
     "data": {
      "text/plain": [
       "3.0710987192210606e-128"
      ]
     },
     "execution_count": 291,
     "metadata": {},
     "output_type": "execute_result"
    }
   ],
   "source": [
    "ind_sample.pvalue"
   ]
  },
  {
   "cell_type": "code",
   "execution_count": 292,
   "id": "f95fa7f2",
   "metadata": {},
   "outputs": [
    {
     "data": {
      "text/plain": [
       "794"
      ]
     },
     "execution_count": 292,
     "metadata": {},
     "output_type": "execute_result"
    }
   ],
   "source": [
    "df = n1 + n2 - 2\n",
    "df"
   ]
  },
  {
   "cell_type": "code",
   "execution_count": 293,
   "id": "5414538e",
   "metadata": {},
   "outputs": [
    {
     "data": {
      "text/plain": [
       "0.0"
      ]
     },
     "execution_count": 293,
     "metadata": {},
     "output_type": "execute_result"
    }
   ],
   "source": [
    "p_value =  2 * (1 - stats.t.cdf(t, df))\n",
    "p_value"
   ]
  },
  {
   "cell_type": "markdown",
   "id": "91dfcca8",
   "metadata": {},
   "source": [
    "5- CONCLUSION:"
   ]
  },
  {
   "cell_type": "code",
   "execution_count": 294,
   "id": "c8f83110",
   "metadata": {},
   "outputs": [
    {
     "name": "stdout",
     "output_type": "stream",
     "text": [
      "'Reject the null.' At the 0.01 significance level, we have sufficient evidence to reject the H0 hypothesis.\n"
     ]
    }
   ],
   "source": [
    "alpha = 0.05   #Default\n",
    "if p_value < alpha :\n",
    "    print(\"'Reject the null.' At the 0.01 significance level, we have sufficient evidence to reject the H0 hypothesis.\")\n",
    "else :\n",
    "    print(\"'Fail to reject the null.' At the 0.01 significance level, we don't have sufficient evidence to reject the H0 hypothesis.\")"
   ]
  },
  {
   "cell_type": "code",
   "execution_count": null,
   "id": "ca957fdd",
   "metadata": {},
   "outputs": [],
   "source": []
  },
  {
   "cell_type": "code",
   "execution_count": null,
   "id": "7bd0c211",
   "metadata": {},
   "outputs": [],
   "source": []
  },
  {
   "cell_type": "code",
   "execution_count": null,
   "id": "9c18e648",
   "metadata": {},
   "outputs": [],
   "source": []
  }
 ],
 "metadata": {
  "kernelspec": {
   "display_name": "Python 3",
   "language": "python",
   "name": "python3"
  },
  "language_info": {
   "codemirror_mode": {
    "name": "ipython",
    "version": 3
   },
   "file_extension": ".py",
   "mimetype": "text/x-python",
   "name": "python",
   "nbconvert_exporter": "python",
   "pygments_lexer": "ipython3",
   "version": "3.8.8"
  }
 },
 "nbformat": 4,
 "nbformat_minor": 5
}
